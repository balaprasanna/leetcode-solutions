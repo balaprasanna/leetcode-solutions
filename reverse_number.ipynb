{
 "cells": [
  {
   "cell_type": "code",
   "execution_count": null,
   "metadata": {},
   "outputs": [],
   "source": [
    "class Solution:\n",
    "    def reverse(self, x: int) -> int:\n",
    "        \n",
    "        stack = []\n",
    "        append_with_neg_sign = False\n",
    "        NEG_SIGN = '-'\n",
    "        \n",
    "        for c in str(x):\n",
    "            if c == NEG_SIGN: \n",
    "                append_with_neg_sign = True\n",
    "            else:\n",
    "                stack.append(c)\n",
    "        \n",
    "        rev_str = NEG_SIGN if append_with_neg_sign else ''\n",
    "        while len(stack) > 0:\n",
    "            rev_str += stack.pop()\n",
    "        \n",
    "        value = int(rev_str)\n",
    "        \n",
    "        min_x = -2**31\n",
    "        max_x = 2**31 - 1\n",
    "        return value if value in range(min_x, max_x) else 0\n",
    "        "
   ]
  },
  {
   "cell_type": "code",
   "execution_count": null,
   "metadata": {},
   "outputs": [],
   "source": [
    "class Solution:\n",
    "    def reverse(self, x: int) -> int:\n",
    "        x_str = str(x)\n",
    "        if x < 0:\n",
    "            rev_str = '-' + x_str[1::-1]\n",
    "        else:\n",
    "            rev_str = x_str[::-1]\n",
    "        \n",
    "        value = int(rev_str)\n",
    "        min_x = -2**31\n",
    "        max_x = 2**31 - 1\n",
    "        \n",
    "        return value if value in range(min_x, max_x) else 0"
   ]
  },
  {
   "cell_type": "code",
   "execution_count": 4,
   "metadata": {},
   "outputs": [],
   "source": [
    "class Solution:\n",
    "    def reverse(self, x: int) -> int:\n",
    "        xorg = x\n",
    "        def inv(a): return a*-1\n",
    "        \n",
    "        ans = ''\n",
    "        if xorg < 0 : \n",
    "            x = inv(x)\n",
    "            \n",
    "        while x > 0 :\n",
    "            ans += str(x%10)\n",
    "            x = x//10\n",
    "        \n",
    "        if xorg < 0 : \n",
    "            ans = '-' + ans\n",
    "        \n",
    "        value = int(ans)\n",
    "        min_x = -2**31\n",
    "        max_x = 2**31 - 1\n",
    "        \n",
    "        return value if min_x <= value <= max_x else 0"
   ]
  },
  {
   "cell_type": "code",
   "execution_count": 10,
   "metadata": {},
   "outputs": [
    {
     "data": {
      "text/plain": [
       "9232321"
      ]
     },
     "execution_count": 10,
     "metadata": {},
     "output_type": "execute_result"
    }
   ],
   "source": [
    "Solution().reverse(1232329)"
   ]
  },
  {
   "cell_type": "code",
   "execution_count": null,
   "metadata": {},
   "outputs": [],
   "source": []
  }
 ],
 "metadata": {
  "kernelspec": {
   "display_name": "Python 2.7.13 64-bit ('garage': conda)",
   "language": "python",
   "name": "python2713jvsc74a57bd0eeb05c95de7ec873bb8deacf35712b9799850da4a382b861f48c86f0af4c672a"
  },
  "language_info": {
   "codemirror_mode": {
    "name": "ipython",
    "version": 2
   },
   "file_extension": ".py",
   "mimetype": "text/x-python",
   "name": "python",
   "nbconvert_exporter": "python",
   "pygments_lexer": "ipython2",
   "version": "2.7.13"
  }
 },
 "nbformat": 4,
 "nbformat_minor": 2
}
