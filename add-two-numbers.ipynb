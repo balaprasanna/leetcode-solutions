{
 "cells": [
  {
   "cell_type": "code",
   "execution_count": null,
   "metadata": {},
   "outputs": [],
   "source": [
    "# Definition for singly-linked list.\n",
    "# class ListNode:\n",
    "#     def __init__(self, val=0, next=None):\n",
    "#         self.val = val\n",
    "#         self.next = next\n",
    "class Solution:\n",
    "    def addTwoNumbers(self, l1: Optional[ListNode], l2: Optional[ListNode]) -> Optional[ListNode]:\n",
    "        \n",
    "        head = curr = ListNode(0)\n",
    "        carry = 0\n",
    "        \n",
    "        while l1 or l2:\n",
    "            val = carry\n",
    "            if l1:\n",
    "                val += l1.val\n",
    "                l1 = l1.next\n",
    "            if l2:\n",
    "                val += l2.val\n",
    "                l2 = l2.next\n",
    "            \n",
    "            # create a new node and append the current val\n",
    "            newNode = ListNode(val % 10)\n",
    "            \n",
    "            # assign the new node to current's next pointer\n",
    "            curr.next = newNode\n",
    "            \n",
    "            # move the curr pointer to new val node.\n",
    "            curr = curr.next\n",
    "            \n",
    "            carry = val // 10\n",
    "            \n",
    "        if carry > 0:\n",
    "            newCarryNode = ListNode(carry)\n",
    "            curr.next = newCarryNode\n",
    "        \n",
    "        # advance the dummy head which points to Node(0)\n",
    "        return head.next"
   ]
  }
 ],
 "metadata": {
  "kernelspec": {
   "display_name": "Python 2",
   "language": "python",
   "name": "python2"
  },
  "language_info": {
   "codemirror_mode": {
    "name": "ipython",
    "version": 2
   },
   "file_extension": ".py",
   "mimetype": "text/x-python",
   "name": "python",
   "nbconvert_exporter": "python",
   "pygments_lexer": "ipython2",
   "version": "2.7.13"
  }
 },
 "nbformat": 4,
 "nbformat_minor": 2
}
