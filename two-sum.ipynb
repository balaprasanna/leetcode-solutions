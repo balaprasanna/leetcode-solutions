{
 "cells": [
  {
   "cell_type": "code",
   "execution_count": null,
   "metadata": {},
   "outputs": [],
   "source": [
    "class Solution:\n",
    "    def twoSum(self, nums: List[int], target: int) -> List[int]:\n",
    "        other_half = {}\n",
    "        for idx, v in enumerate(nums):\n",
    "            if v in other_half:\n",
    "                result = (other_half[v], idx)\n",
    "                break\n",
    "            else:\n",
    "                other_half[target-v] = idx\n",
    "        return result"
   ]
  },
  {
   "cell_type": "markdown",
   "metadata": {},
   "source": [
    "---"
   ]
  },
  {
   "cell_type": "code",
   "execution_count": 12,
   "metadata": {},
   "outputs": [],
   "source": [
    "class Solution:\n",
    "    def twoSum(self, nums, target):\n",
    "        \n",
    "        halfDict = {}\n",
    "        \n",
    "        for idx, num in enumerate(nums):\n",
    "            if target-num in halfDict:\n",
    "                return halfDict[target-num], idx\n",
    "            else:\n",
    "                halfDict[num] = idx"
   ]
  },
  {
   "cell_type": "code",
   "execution_count": null,
   "metadata": {},
   "outputs": [],
   "source": []
  }
 ],
 "metadata": {
  "kernelspec": {
   "display_name": "Python 2.7.13 64-bit ('garage': conda)",
   "language": "python",
   "name": "python2713jvsc74a57bd0eeb05c95de7ec873bb8deacf35712b9799850da4a382b861f48c86f0af4c672a"
  },
  "language_info": {
   "codemirror_mode": {
    "name": "ipython",
    "version": 2
   },
   "file_extension": ".py",
   "mimetype": "text/x-python",
   "name": "python",
   "nbconvert_exporter": "python",
   "pygments_lexer": "ipython2",
   "version": "2.7.13"
  }
 },
 "nbformat": 4,
 "nbformat_minor": 2
}
