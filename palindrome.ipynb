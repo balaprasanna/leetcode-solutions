{
 "cells": [
  {
   "cell_type": "code",
   "execution_count": null,
   "metadata": {},
   "outputs": [],
   "source": [
    "class Solution:\n",
    "    \n",
    "    def isPalindrome(self, x: int) -> bool:\n",
    "        # x_chars = str(x)\n",
    "        # return x_chars == x_chars[::-1]\n",
    "        \n",
    "        x_str = str(x)\n",
    "        left_p, right_p = 0, len(x_str)-1\n",
    "        ans = True\n",
    "        \n",
    "        while left_p < right_p:\n",
    "            \n",
    "            if x_str[left_p] != x_str[right_p]:\n",
    "                ans = False\n",
    "                break\n",
    "            \n",
    "            left_p += 1\n",
    "            right_p -= 1\n",
    "        \n",
    "        return ans"
   ]
  }
 ],
 "metadata": {
  "kernelspec": {
   "display_name": "Python 2",
   "language": "python",
   "name": "python2"
  },
  "language_info": {
   "codemirror_mode": {
    "name": "ipython",
    "version": 2
   },
   "file_extension": ".py",
   "mimetype": "text/x-python",
   "name": "python",
   "nbconvert_exporter": "python",
   "pygments_lexer": "ipython2",
   "version": "2.7.13"
  }
 },
 "nbformat": 4,
 "nbformat_minor": 2
}
